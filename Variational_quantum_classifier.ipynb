{
 "cells": [
  {
   "cell_type": "code",
   "execution_count": 1,
   "metadata": {},
   "outputs": [],
   "source": [
    "import matplotlib.pyplot as plt\n",
    "import numpy as np\n",
    "from IPython.display import clear_output\n",
    "from qiskit import QuantumCircuit\n",
    "from qiskit.circuit import Parameter\n",
    "from qiskit.circuit.library import RealAmplitudes, ZZFeatureMap\n",
    "from qiskit_machine_learning.optimizers import COBYLA, L_BFGS_B\n",
    "from qiskit_machine_learning.utils import algorithm_globals\n",
    "\n",
    "from qiskit_machine_learning.algorithms.classifiers import NeuralNetworkClassifier, VQC\n",
    "from qiskit_machine_learning.algorithms.regressors import NeuralNetworkRegressor, VQR\n",
    "from qiskit_machine_learning.neural_networks import SamplerQNN, EstimatorQNN\n",
    "from qiskit_machine_learning.circuit.library import QNNCircuit"
   ]
  },
  {
   "cell_type": "markdown",
   "metadata": {},
   "source": [
    "### Multiple classes classificaiton with VQC\n",
    "\n",
    "using scikit-learn, produce multiple classes with 3 classes, 10 samples, 2 features\n",
    "\n",
    "n scikit-learn, MinMaxScaler is a preprocessing tool that scales and normalizes numerical data by transforming features to a fixed range, typically [0, 1] or [-1, 1].\n",
    "\n",
    "__How It Works__\n",
    "\n",
    "Mathematically, MinMaxScaler applies the following transformation to each feature X ranging from 0 to 1: <br>\n",
    "$$\n",
    "X_{scaled} = \\frac{X - X_{min}}{X_{max}-X_{min}}\n",
    "$$​​\n",
    "\n",
    "where:\n",
    "\n",
    "$ X_{min} $​ = minimum value of the feature <br>\n",
    "$ X_{max} $​ = maximum value of the feature <br>\n",
    "$ X_{scaled} $​ = transformed value in the new range <br>"
   ]
  },
  {
   "cell_type": "code",
   "execution_count": null,
   "metadata": {},
   "outputs": [],
   "source": [
    "from sklearn.datasets import make_classification\n",
    "from sklearn.preprocessing import MinMaxScaler\n",
    "\n",
    "# create classified samples and label: X, y \n",
    "X, y = make_classification(\n",
    "    n_samples=10,\n",
    "    n_features=2,\n",
    "    n_classes=3,\n",
    "    n_redundant=0,\n",
    "    n_clusters_per_class=1,\n",
    "    class_sep=2.0,\n",
    "    random_state=algorithm_globals.random_seed,\n",
    ")\n",
    "\n",
    "X = MinMaxScaler().fit_transform(X)"
   ]
  }
 ],
 "metadata": {
  "kernelspec": {
   "display_name": "Python (qml)",
   "language": "python",
   "name": "qml"
  },
  "language_info": {
   "codemirror_mode": {
    "name": "ipython",
    "version": 3
   },
   "file_extension": ".py",
   "mimetype": "text/x-python",
   "name": "python",
   "nbconvert_exporter": "python",
   "pygments_lexer": "ipython3",
   "version": "3.12.9"
  }
 },
 "nbformat": 4,
 "nbformat_minor": 2
}
